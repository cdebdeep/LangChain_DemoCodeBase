{
 "cells": [
  {
   "cell_type": "markdown",
   "metadata": {},
   "source": [
    "## Purposee\n",
    "\n",
    "Create Big Query Vector Store !\n",
    "\n",
    "https://python.langchain.com/v0.2/docs/integrations/platforms/google/#bigquery-vector-search\n",
    "\n",
    "https://cloud.google.com/bigquery/docs/vector-search-intro"
   ]
  },
  {
   "cell_type": "markdown",
   "metadata": {},
   "source": [
    "Google Cloud BigQuery Vector Search lets you use GoogleSQL to do semantic search, using vector indexes for fast approximate results, or using brute force for exact results."
   ]
  },
  {
   "cell_type": "markdown",
   "metadata": {},
   "source": [
    "### Reading from GCP Bucket"
   ]
  },
  {
   "cell_type": "code",
   "execution_count": null,
   "metadata": {},
   "outputs": [],
   "source": [
    "%pip install --upgrade --quiet  langchain-google-community[gcs]\n",
    "%pip install unstructured"
   ]
  },
  {
   "cell_type": "code",
   "execution_count": null,
   "metadata": {},
   "outputs": [],
   "source": [
    "from langchain_google_community import GCSDirectoryLoader\n",
    "loader = GCSDirectoryLoader(project_name=\"\", bucket=\"\")  #Put GCP  your Project Name & Bucket Name\n",
    "lstDoc = loader.load()\n",
    "lstDoc"
   ]
  },
  {
   "cell_type": "code",
   "execution_count": null,
   "metadata": {},
   "outputs": [],
   "source": [
    "print(type(lstDoc[0]))"
   ]
  },
  {
   "cell_type": "code",
   "execution_count": null,
   "metadata": {},
   "outputs": [],
   "source": [
    "lstSrtContent=[doc.page_content for doc in lstDoc]\n",
    "lstSrtContent"
   ]
  },
  {
   "cell_type": "code",
   "execution_count": null,
   "metadata": {},
   "outputs": [],
   "source": [
    "%pip install --upgrade --quiet  langchain langchain-google-vertexai google-cloud-bigquery"
   ]
  },
  {
   "cell_type": "markdown",
   "metadata": {},
   "source": [
    "GCP Information"
   ]
  },
  {
   "cell_type": "code",
   "execution_count": null,
   "metadata": {},
   "outputs": [],
   "source": [
    "\n",
    "PROJECT_ID = \"\"  # Put you GCP Project ID here\n",
    "\n",
    "# Set the project id\n",
    "#! gcloud config set project {PROJECT_ID}\n",
    "\n",
    "REGION = \"\"  #Put Location\n",
    "DATASET = \"vector_dataset\"  \n",
    "TABLE = \"tbllight\"  "
   ]
  },
  {
   "cell_type": "code",
   "execution_count": null,
   "metadata": {},
   "outputs": [],
   "source": [
    "from langchain_google_vertexai import VertexAIEmbeddings\n",
    "\n",
    "embedding = VertexAIEmbeddings(\n",
    "    model_name=\"textembedding-gecko@latest\", project=PROJECT_ID\n",
    ")"
   ]
  },
  {
   "cell_type": "code",
   "execution_count": null,
   "metadata": {},
   "outputs": [],
   "source": [
    "from google.cloud import bigquery\n",
    "\n",
    "client = bigquery.Client(project=PROJECT_ID, location=REGION)\n",
    "client.create_dataset(dataset=DATASET, exists_ok=True)\n",
    "\n"
   ]
  },
  {
   "cell_type": "markdown",
   "metadata": {},
   "source": [
    "https://api.python.langchain.com/en/latest/vectorstores/langchain_community.vectorstores.utils.DistanceStrategy.html\n",
    "\n",
    "https://api.python.langchain.com/en/latest/vectorstores/langchain_community.vectorstores.bigquery_vector_search.BigQueryVectorSearch.html"
   ]
  },
  {
   "cell_type": "code",
   "execution_count": null,
   "metadata": {},
   "outputs": [],
   "source": [
    "from langchain_community.vectorstores import BigQueryVectorSearch\n",
    "from langchain_community.vectorstores.utils import DistanceStrategy\n",
    "\n",
    "store = BigQueryVectorSearch(\n",
    "    project_id=PROJECT_ID,\n",
    "    dataset_name=DATASET,\n",
    "    table_name=TABLE,\n",
    "    location=REGION,\n",
    "    embedding=embedding,\n",
    "    distance_strategy=DistanceStrategy.EUCLIDEAN_DISTANCE,\n",
    ")"
   ]
  },
  {
   "cell_type": "code",
   "execution_count": null,
   "metadata": {},
   "outputs": [],
   "source": [
    "\n",
    "metadatas = [{\"len\": len(t)} for t in lstSrtContent]\n",
    "metadatas\n"
   ]
  },
  {
   "cell_type": "code",
   "execution_count": null,
   "metadata": {},
   "outputs": [],
   "source": [
    "store.add_texts(lstSrtContent, metadatas=metadatas)"
   ]
  },
  {
   "cell_type": "code",
   "execution_count": null,
   "metadata": {},
   "outputs": [],
   "source": [
    "query='S N Bose'"
   ]
  },
  {
   "cell_type": "code",
   "execution_count": null,
   "metadata": {},
   "outputs": [],
   "source": [
    "import json\n",
    "ret_Val1 = store.similarity_search(query)\n",
    "print(ret_Val1)\n",
    "\n",
    "json_output=[{'page_content': doc.page_content, 'metadata': doc.metadata} for doc in ret_Val1]\n",
    "\n",
    "with open('DocSearch.json', \"w\") as json_file:\n",
    "        json.dump(json_output, json_file, indent=4)\n"
   ]
  },
  {
   "cell_type": "code",
   "execution_count": null,
   "metadata": {},
   "outputs": [],
   "source": [
    "query_vector = embedding.embed_query(query)\n",
    "ret_Val2 = store.similarity_search_by_vector(query_vector)\n",
    "print(ret_Val2)\n",
    "\n",
    "json_output=[{'page_content': doc.page_content, 'metadata': doc.metadata} for doc in ret_Val2]\n",
    "\n",
    "with open('VectorSearch.json', \"w\") as json_file:\n",
    "        json.dump(json_output, json_file, indent=4)\n"
   ]
  }
 ],
 "metadata": {
  "kernelspec": {
   "display_name": ".venv",
   "language": "python",
   "name": "python3"
  },
  "language_info": {
   "codemirror_mode": {
    "name": "ipython",
    "version": 3
   },
   "file_extension": ".py",
   "mimetype": "text/x-python",
   "name": "python",
   "nbconvert_exporter": "python",
   "pygments_lexer": "ipython3",
   "version": "3.12.4"
  }
 },
 "nbformat": 4,
 "nbformat_minor": 2
}

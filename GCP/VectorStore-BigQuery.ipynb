{
 "cells": [
  {
   "cell_type": "markdown",
   "metadata": {},
   "source": [
    "## Purposee\n",
    "\n",
    "1.Big Query Vector Store !\n",
    "\n",
    "2.RAG with Filters\n",
    "\n",
    "3.LLM Response\n",
    "\n",
    "https://python.langchain.com/v0.2/docs/integrations/platforms/google/#bigquery-vector-search\n",
    "\n",
    "https://cloud.google.com/bigquery/docs/vector-search-intro"
   ]
  },
  {
   "cell_type": "markdown",
   "metadata": {},
   "source": [
    "Google Cloud BigQuery Vector Search lets you use GoogleSQL to do semantic search, using vector indexes for fast approximate results, or using brute force for exact results."
   ]
  },
  {
   "cell_type": "markdown",
   "metadata": {},
   "source": [
    "#### Reading from GCP Bucket"
   ]
  },
  {
   "cell_type": "code",
   "execution_count": null,
   "metadata": {},
   "outputs": [],
   "source": [
    "%pip install python-dotenv\n",
    "%pip install --upgrade --quiet  langchain-google-community[gcs]\n",
    "%pip install unstructured\n",
    "%pip install --upgrade --quiet  langchain langchain-google-vertexai google-cloud-bigquery"
   ]
  },
  {
   "cell_type": "code",
   "execution_count": 31,
   "metadata": {},
   "outputs": [],
   "source": [
    "from dotenv import load_dotenv #For loading data from the Env file\n",
    "import os \n",
    "import json # For save the data as .json on disk\n",
    "\n",
    "from langchain_google_community import GCSDirectoryLoader #For getting data from GCP Bucket\n",
    "\n",
    "from langchain_google_vertexai import VertexAIEmbeddings # For document embedding\n",
    "\n",
    "from google.cloud import bigquery # Big Query client \n",
    "\n",
    "from langchain_community.vectorstores import BigQueryVectorSearch #For Vector Store\n",
    "\n",
    "from langchain_community.vectorstores.utils import DistanceStrategy\n",
    "\n",
    "from langchain_core.output_parsers import StrOutputParser\n",
    "\n",
    "from langchain_core.prompts import ChatPromptTemplate\n",
    "\n",
    "from langchain_core.runnables import RunnableParallel, RunnablePassthrough\n",
    "\n",
    "from langchain_google_vertexai import ChatVertexAI\n"
   ]
  },
  {
   "cell_type": "code",
   "execution_count": 32,
   "metadata": {},
   "outputs": [
    {
     "data": {
      "text/plain": [
       "True"
      ]
     },
     "execution_count": 32,
     "metadata": {},
     "output_type": "execute_result"
    }
   ],
   "source": [
    "load_dotenv()"
   ]
  },
  {
   "cell_type": "code",
   "execution_count": 33,
   "metadata": {},
   "outputs": [
    {
     "data": {
      "text/plain": [
       "[Document(metadata={'source': 'gs://strg-light-sourcedoc/Boson.txt'}, page_content='Boson, subatomic particle with integral spin (i.e., angular momentum in quantum-mechanical units of 0, 1, etc.) that is governed by the Bose-Einstein statistics (q.v.). Bosons include mesons (e.g., pions and kaons), nuclei of even mass number (e.g., helium-4), and the particles required to embody the fields of quantum field theory (e.g., photons and gluons). Bosons differ significantly from a group of subatomic particles known as fermions in that there is no limit to the number that can occupy the same quantum state. This behaviour gives rise, for example, to the remarkable properties of helium-4 when it is cooled to become a superfluid.'),\n",
       " Document(metadata={'source': 'gs://strg-light-sourcedoc/James Clerk Maxwell.txt'}, page_content='James Clerk Maxwell (born June 13, 1831, Edinburgh, Scotland—died November 5, 1879, Cambridge, Cambridgeshire, England) was a Scottish physicist best known for his formulation of electromagnetic theory. He is regarded by most modern physicists as the scientist of the 19th century who had the greatest influence on 20th-century physics, and he is ranked with Sir Isaac Newton and Albert Einstein for the fundamental nature of his contributions. In 1931, on the 100th anniversary of Maxwell’s birth, Einstein described the change in the conception of reality in physics that resulted from Maxwell’s work as “the most profound and the most fruitful that physics has experienced since the time of Newton.”\\n\\nThe concept of electromagnetic radiation originated with Maxwell, and his field equations, based on Michael Faraday’s observations of the electric and magnetic lines of force, paved the way for Einstein’s special theory of relativity, which established the equivalence of mass and energy. Maxwell’s ideas also ushered in the other major innovation of 20th-century physics, the quantum theory. His description of electromagnetic radiation led to the development (according to classical theory) of the ultimately unsatisfactory law of heat radiation, which prompted Max Planck’s formulation of the quantum hypothesis—i.e., the theory that radiant-heat energy is emitted only in finite amounts, or quanta. The interaction between electromagnetic radiation and matter, integral to Planck’s hypothesis, in turn has played a central role in the development of the theory of the structure of atoms and molecules.'),\n",
       " Document(metadata={'source': 'gs://strg-light-sourcedoc/Maxwell Birth.txt'}, page_content='Edinburgh: Maxwell was born in this elegant Georgian house in 1831. It now displays a growing collection of heritage material associated with him, his associates and family circle.'),\n",
       " Document(metadata={'source': 'gs://strg-light-sourcedoc/Maxwell Work.txt'}, page_content=\"On the 13th June 1831 James Clerk Maxwell was born in Edinburgh, at 14 India Street, a house built for his father in that part of Edinburgh's elegant Georgian New Town which was developed after the Napoleonic Wars. Although the family moved to their estate at Glenlair, near Dumfries, shortly afterwards, James returned to Edinburgh to attend school at The Edinburgh Academy. He continued his education at the Universities of Edinburgh and Cambridge. In 1856, at the early age of 25, he became Professor of Physics at Marischal College, Aberdeen. From there he moved first to King's College, London, and then, in 1871, to become the first Professor of Experimental Physics at Cambridge where he directed the newly created Cavendish Laboratory. It was at the Cavendish, over the next fifty years, that so much of the physics of today continued to develop from Maxwell's inspiration.\\n\\nModern technology, in large part, stems from his grasp of the basic principles of the universe. Wide ranging developments in the field of electricity and electronics, including radio, television, radar and communications, derive from Maxwell's discovery of the laws of the electromagnetic field - which was not a synthesis of what was known before, but rather a fundamental change in concept that departed from Newton's view and was to influence greatly the modern scientific and industrial revolution.\"),\n",
       " Document(metadata={'source': 'gs://strg-light-sourcedoc/Maxwell at Aberdeen.txt'}, page_content=\"The 25-year-old Maxwell was a good 15 years younger than any other professor at Marischal. He engaged himself with his new responsibilities as head of a department, devising the syllabus and preparing lectures.He committed himself to lecturing 15 hours a week, including a weekly pro bono lecture to the local working men's college.He lived in Aberdeen with his cousin William Dyce Cay, a Scottish civil engineer, during the six months of the academic year and spent the summers at Glenlair, which he had inherited from his father.\"),\n",
       " Document(metadata={'source': 'gs://strg-light-sourcedoc/S N Bose.txt'}, page_content='Satyendra Nath Bose (born January 1, 1894, Calcutta [now Kolkata], India—died February 4, 1974, Calcutta) was an Indian mathematician and physicist noted for his collaboration with Albert Einstein in developing a theory regarding the gaslike qualities of electromagnetic radiation (see Bose-Einstein statistics).\\n\\nBose, a graduate of the University of Calcutta, taught at the University of Dacca (1921–45) and then at Calcutta (1945–56). Bose’s numerous scientific papers (published from 1918 to 1956) contributed to statistical mechanics, the electromagnetic properties of the ionosphere, the theories of X-ray crystallography and thermoluminescence, and unified field theory. Bose’s Planck’s Law and the Hypothesis of Light Quanta (1924) led Einstein to seek him out for collaboration.'),\n",
       " Document(metadata={'source': 'gs://strg-light-sourcedoc/SNB and Einstein.txt'}, page_content='In 1924 an Indian physicist called Satyendra Nath Bose wrote to Albert Einstein saying he had solved a problem in quantum physics that had stumped the great man. One century on, Robert P Crease and Gino Elia explain how the correspondence led to the notion of Bose–Einstein condensation and why it revealed the power of diverse thinking. Short but sweet In 1924 Satyendra Nath Bose (left) wrote to Albert Einstein (right) saying he had developed a more satisfactory derivation of Planck’s law. The resulting correspondence, which was brief but deep, led to the prediction of what we now call Bose–Einstein condensation. (Courtesy: Left: Falguni Sarkar, courtesy AIP Emilio Segrè Visual Archives. Right: AIP Emilio Segrè Visual Archives, W. F. Meggers Gallery of Nobel Laureates Collection) One day in June 1924, Albert Einstein received a letter written by a professor in India. The author admitted he was a “complete stranger” but said he was sending Einstein an accompanying article for his “perusal and opinion”. Just five pages long, the article claimed to address a flaw in quantum theory that Einstein had struggled unsuccessfully with for several years.\\n\\nEinstein, who was then at the University of Berlin, immediately realized that the author – Satyendra Nath Bose – had solved the problem that had defeated him. It concerned a fully satisfactory derivation of Planck’s law, which describes the spectrum of radiation from a black body. First derived by Max Planck in 1900, the law showed that the radiation does not rise to infinity at ever-shorter wavelengths as classical physics suggests, but instead peaks before falling back. Einstein quickly developed Bose’s approach further in his own work and, as a result of their collaboration, the pair predicted the existence of a new phenomenon, dubbed “Bose–Einstein condensation”. Anticipated to occur at very low temperatures, it would involve all particles in a system occupying the same lowest quantum state. This new collective state of matter was experimentally detected for the first time in 1995, leading to Eric Cornell, Wolfgang Ketterle and Carl Wieman winning the Nobel Prize for Physics six years later.\\n\\nThe Bose–Einstein exchange may have been brief, but it is one of the great correspondences in the history of physics. Writing in the 2020 book The Making of Modern Physics in Colonial India, the historian and philosopher of science Somaditya Banerjee, who is now at Austin Peay State University in Clarksville, Tennessee, says their collaboration illustrated the growing importance of international joint efforts in science. Or, as Banerjee puts it, their work revealed the “transnational nature of the quantum”.')]"
      ]
     },
     "execution_count": 33,
     "metadata": {},
     "output_type": "execute_result"
    }
   ],
   "source": [
    "\n",
    "loader = GCSDirectoryLoader(project_name=os.getenv('PROJECT_NAME'), bucket=os.getenv('BUCKET_NAME'))  #Put GCP  your Project Name & Bucket Name\n",
    "lstDoc = loader.load()\n",
    "lstDoc"
   ]
  },
  {
   "cell_type": "markdown",
   "metadata": {},
   "source": [
    "#### What is the type?"
   ]
  },
  {
   "cell_type": "code",
   "execution_count": 34,
   "metadata": {},
   "outputs": [
    {
     "name": "stdout",
     "output_type": "stream",
     "text": [
      "<class 'langchain_core.documents.base.Document'>\n"
     ]
    }
   ],
   "source": [
    "#what is the type ?\n",
    "print(type(lstDoc[0]))"
   ]
  },
  {
   "cell_type": "markdown",
   "metadata": {},
   "source": [
    "#### What are the Properties ?"
   ]
  },
  {
   "cell_type": "code",
   "execution_count": 35,
   "metadata": {},
   "outputs": [
    {
     "data": {
      "text/plain": [
       "{'id': None,\n",
       " 'metadata': {'source': 'gs://strg-light-sourcedoc/Boson.txt'},\n",
       " 'page_content': 'Boson, subatomic particle with integral spin (i.e., angular momentum in quantum-mechanical units of 0, 1, etc.) that is governed by the Bose-Einstein statistics (q.v.). Bosons include mesons (e.g., pions and kaons), nuclei of even mass number (e.g., helium-4), and the particles required to embody the fields of quantum field theory (e.g., photons and gluons). Bosons differ significantly from a group of subatomic particles known as fermions in that there is no limit to the number that can occupy the same quantum state. This behaviour gives rise, for example, to the remarkable properties of helium-4 when it is cooled to become a superfluid.',\n",
       " 'type': 'Document'}"
      ]
     },
     "execution_count": 35,
     "metadata": {},
     "output_type": "execute_result"
    }
   ],
   "source": [
    "vars(lstDoc[0])"
   ]
  },
  {
   "cell_type": "markdown",
   "metadata": {},
   "source": [
    "#### Adding some MetaData [in case Id]"
   ]
  },
  {
   "cell_type": "code",
   "execution_count": 36,
   "metadata": {},
   "outputs": [],
   "source": [
    "for i in range(len(lstDoc)):\n",
    "    lstDoc[i].metadata['Id']=i"
   ]
  },
  {
   "cell_type": "code",
   "execution_count": 37,
   "metadata": {},
   "outputs": [
    {
     "name": "stdout",
     "output_type": "stream",
     "text": [
      "{'id': None, 'metadata': {'source': 'gs://strg-light-sourcedoc/Boson.txt', 'Id': 0}, 'page_content': 'Boson, subatomic particle with integral spin (i.e., angular momentum in quantum-mechanical units of 0, 1, etc.) that is governed by the Bose-Einstein statistics (q.v.). Bosons include mesons (e.g., pions and kaons), nuclei of even mass number (e.g., helium-4), and the particles required to embody the fields of quantum field theory (e.g., photons and gluons). Bosons differ significantly from a group of subatomic particles known as fermions in that there is no limit to the number that can occupy the same quantum state. This behaviour gives rise, for example, to the remarkable properties of helium-4 when it is cooled to become a superfluid.', 'type': 'Document'}\n",
      "{'id': None, 'metadata': {'source': 'gs://strg-light-sourcedoc/James Clerk Maxwell.txt', 'Id': 1}, 'page_content': 'James Clerk Maxwell (born June 13, 1831, Edinburgh, Scotland—died November 5, 1879, Cambridge, Cambridgeshire, England) was a Scottish physicist best known for his formulation of electromagnetic theory. He is regarded by most modern physicists as the scientist of the 19th century who had the greatest influence on 20th-century physics, and he is ranked with Sir Isaac Newton and Albert Einstein for the fundamental nature of his contributions. In 1931, on the 100th anniversary of Maxwell’s birth, Einstein described the change in the conception of reality in physics that resulted from Maxwell’s work as “the most profound and the most fruitful that physics has experienced since the time of Newton.”\\n\\nThe concept of electromagnetic radiation originated with Maxwell, and his field equations, based on Michael Faraday’s observations of the electric and magnetic lines of force, paved the way for Einstein’s special theory of relativity, which established the equivalence of mass and energy. Maxwell’s ideas also ushered in the other major innovation of 20th-century physics, the quantum theory. His description of electromagnetic radiation led to the development (according to classical theory) of the ultimately unsatisfactory law of heat radiation, which prompted Max Planck’s formulation of the quantum hypothesis—i.e., the theory that radiant-heat energy is emitted only in finite amounts, or quanta. The interaction between electromagnetic radiation and matter, integral to Planck’s hypothesis, in turn has played a central role in the development of the theory of the structure of atoms and molecules.', 'type': 'Document'}\n",
      "{'id': None, 'metadata': {'source': 'gs://strg-light-sourcedoc/Maxwell Birth.txt', 'Id': 2}, 'page_content': 'Edinburgh: Maxwell was born in this elegant Georgian house in 1831. It now displays a growing collection of heritage material associated with him, his associates and family circle.', 'type': 'Document'}\n",
      "{'id': None, 'metadata': {'source': 'gs://strg-light-sourcedoc/Maxwell Work.txt', 'Id': 3}, 'page_content': \"On the 13th June 1831 James Clerk Maxwell was born in Edinburgh, at 14 India Street, a house built for his father in that part of Edinburgh's elegant Georgian New Town which was developed after the Napoleonic Wars. Although the family moved to their estate at Glenlair, near Dumfries, shortly afterwards, James returned to Edinburgh to attend school at The Edinburgh Academy. He continued his education at the Universities of Edinburgh and Cambridge. In 1856, at the early age of 25, he became Professor of Physics at Marischal College, Aberdeen. From there he moved first to King's College, London, and then, in 1871, to become the first Professor of Experimental Physics at Cambridge where he directed the newly created Cavendish Laboratory. It was at the Cavendish, over the next fifty years, that so much of the physics of today continued to develop from Maxwell's inspiration.\\n\\nModern technology, in large part, stems from his grasp of the basic principles of the universe. Wide ranging developments in the field of electricity and electronics, including radio, television, radar and communications, derive from Maxwell's discovery of the laws of the electromagnetic field - which was not a synthesis of what was known before, but rather a fundamental change in concept that departed from Newton's view and was to influence greatly the modern scientific and industrial revolution.\", 'type': 'Document'}\n",
      "{'id': None, 'metadata': {'source': 'gs://strg-light-sourcedoc/Maxwell at Aberdeen.txt', 'Id': 4}, 'page_content': \"The 25-year-old Maxwell was a good 15 years younger than any other professor at Marischal. He engaged himself with his new responsibilities as head of a department, devising the syllabus and preparing lectures.He committed himself to lecturing 15 hours a week, including a weekly pro bono lecture to the local working men's college.He lived in Aberdeen with his cousin William Dyce Cay, a Scottish civil engineer, during the six months of the academic year and spent the summers at Glenlair, which he had inherited from his father.\", 'type': 'Document'}\n",
      "{'id': None, 'metadata': {'source': 'gs://strg-light-sourcedoc/S N Bose.txt', 'Id': 5}, 'page_content': 'Satyendra Nath Bose (born January 1, 1894, Calcutta [now Kolkata], India—died February 4, 1974, Calcutta) was an Indian mathematician and physicist noted for his collaboration with Albert Einstein in developing a theory regarding the gaslike qualities of electromagnetic radiation (see Bose-Einstein statistics).\\n\\nBose, a graduate of the University of Calcutta, taught at the University of Dacca (1921–45) and then at Calcutta (1945–56). Bose’s numerous scientific papers (published from 1918 to 1956) contributed to statistical mechanics, the electromagnetic properties of the ionosphere, the theories of X-ray crystallography and thermoluminescence, and unified field theory. Bose’s Planck’s Law and the Hypothesis of Light Quanta (1924) led Einstein to seek him out for collaboration.', 'type': 'Document'}\n",
      "{'id': None, 'metadata': {'source': 'gs://strg-light-sourcedoc/SNB and Einstein.txt', 'Id': 6}, 'page_content': 'In 1924 an Indian physicist called Satyendra Nath Bose wrote to Albert Einstein saying he had solved a problem in quantum physics that had stumped the great man. One century on, Robert P Crease and Gino Elia explain how the correspondence led to the notion of Bose–Einstein condensation and why it revealed the power of diverse thinking. Short but sweet In 1924 Satyendra Nath Bose (left) wrote to Albert Einstein (right) saying he had developed a more satisfactory derivation of Planck’s law. The resulting correspondence, which was brief but deep, led to the prediction of what we now call Bose–Einstein condensation. (Courtesy: Left: Falguni Sarkar, courtesy AIP Emilio Segrè Visual Archives. Right: AIP Emilio Segrè Visual Archives, W. F. Meggers Gallery of Nobel Laureates Collection) One day in June 1924, Albert Einstein received a letter written by a professor in India. The author admitted he was a “complete stranger” but said he was sending Einstein an accompanying article for his “perusal and opinion”. Just five pages long, the article claimed to address a flaw in quantum theory that Einstein had struggled unsuccessfully with for several years.\\n\\nEinstein, who was then at the University of Berlin, immediately realized that the author – Satyendra Nath Bose – had solved the problem that had defeated him. It concerned a fully satisfactory derivation of Planck’s law, which describes the spectrum of radiation from a black body. First derived by Max Planck in 1900, the law showed that the radiation does not rise to infinity at ever-shorter wavelengths as classical physics suggests, but instead peaks before falling back. Einstein quickly developed Bose’s approach further in his own work and, as a result of their collaboration, the pair predicted the existence of a new phenomenon, dubbed “Bose–Einstein condensation”. Anticipated to occur at very low temperatures, it would involve all particles in a system occupying the same lowest quantum state. This new collective state of matter was experimentally detected for the first time in 1995, leading to Eric Cornell, Wolfgang Ketterle and Carl Wieman winning the Nobel Prize for Physics six years later.\\n\\nThe Bose–Einstein exchange may have been brief, but it is one of the great correspondences in the history of physics. Writing in the 2020 book The Making of Modern Physics in Colonial India, the historian and philosopher of science Somaditya Banerjee, who is now at Austin Peay State University in Clarksville, Tennessee, says their collaboration illustrated the growing importance of international joint efforts in science. Or, as Banerjee puts it, their work revealed the “transnational nature of the quantum”.', 'type': 'Document'}\n"
     ]
    }
   ],
   "source": [
    "for doc in lstDoc:\n",
    "    print(vars(doc))"
   ]
  },
  {
   "cell_type": "code",
   "execution_count": 38,
   "metadata": {},
   "outputs": [
    {
     "data": {
      "text/plain": [
       "['Boson, subatomic particle with integral spin (i.e., angular momentum in quantum-mechanical units of 0, 1, etc.) that is governed by the Bose-Einstein statistics (q.v.). Bosons include mesons (e.g., pions and kaons), nuclei of even mass number (e.g., helium-4), and the particles required to embody the fields of quantum field theory (e.g., photons and gluons). Bosons differ significantly from a group of subatomic particles known as fermions in that there is no limit to the number that can occupy the same quantum state. This behaviour gives rise, for example, to the remarkable properties of helium-4 when it is cooled to become a superfluid.',\n",
       " 'James Clerk Maxwell (born June 13, 1831, Edinburgh, Scotland—died November 5, 1879, Cambridge, Cambridgeshire, England) was a Scottish physicist best known for his formulation of electromagnetic theory. He is regarded by most modern physicists as the scientist of the 19th century who had the greatest influence on 20th-century physics, and he is ranked with Sir Isaac Newton and Albert Einstein for the fundamental nature of his contributions. In 1931, on the 100th anniversary of Maxwell’s birth, Einstein described the change in the conception of reality in physics that resulted from Maxwell’s work as “the most profound and the most fruitful that physics has experienced since the time of Newton.”\\n\\nThe concept of electromagnetic radiation originated with Maxwell, and his field equations, based on Michael Faraday’s observations of the electric and magnetic lines of force, paved the way for Einstein’s special theory of relativity, which established the equivalence of mass and energy. Maxwell’s ideas also ushered in the other major innovation of 20th-century physics, the quantum theory. His description of electromagnetic radiation led to the development (according to classical theory) of the ultimately unsatisfactory law of heat radiation, which prompted Max Planck’s formulation of the quantum hypothesis—i.e., the theory that radiant-heat energy is emitted only in finite amounts, or quanta. The interaction between electromagnetic radiation and matter, integral to Planck’s hypothesis, in turn has played a central role in the development of the theory of the structure of atoms and molecules.',\n",
       " 'Edinburgh: Maxwell was born in this elegant Georgian house in 1831. It now displays a growing collection of heritage material associated with him, his associates and family circle.',\n",
       " \"On the 13th June 1831 James Clerk Maxwell was born in Edinburgh, at 14 India Street, a house built for his father in that part of Edinburgh's elegant Georgian New Town which was developed after the Napoleonic Wars. Although the family moved to their estate at Glenlair, near Dumfries, shortly afterwards, James returned to Edinburgh to attend school at The Edinburgh Academy. He continued his education at the Universities of Edinburgh and Cambridge. In 1856, at the early age of 25, he became Professor of Physics at Marischal College, Aberdeen. From there he moved first to King's College, London, and then, in 1871, to become the first Professor of Experimental Physics at Cambridge where he directed the newly created Cavendish Laboratory. It was at the Cavendish, over the next fifty years, that so much of the physics of today continued to develop from Maxwell's inspiration.\\n\\nModern technology, in large part, stems from his grasp of the basic principles of the universe. Wide ranging developments in the field of electricity and electronics, including radio, television, radar and communications, derive from Maxwell's discovery of the laws of the electromagnetic field - which was not a synthesis of what was known before, but rather a fundamental change in concept that departed from Newton's view and was to influence greatly the modern scientific and industrial revolution.\",\n",
       " \"The 25-year-old Maxwell was a good 15 years younger than any other professor at Marischal. He engaged himself with his new responsibilities as head of a department, devising the syllabus and preparing lectures.He committed himself to lecturing 15 hours a week, including a weekly pro bono lecture to the local working men's college.He lived in Aberdeen with his cousin William Dyce Cay, a Scottish civil engineer, during the six months of the academic year and spent the summers at Glenlair, which he had inherited from his father.\",\n",
       " 'Satyendra Nath Bose (born January 1, 1894, Calcutta [now Kolkata], India—died February 4, 1974, Calcutta) was an Indian mathematician and physicist noted for his collaboration with Albert Einstein in developing a theory regarding the gaslike qualities of electromagnetic radiation (see Bose-Einstein statistics).\\n\\nBose, a graduate of the University of Calcutta, taught at the University of Dacca (1921–45) and then at Calcutta (1945–56). Bose’s numerous scientific papers (published from 1918 to 1956) contributed to statistical mechanics, the electromagnetic properties of the ionosphere, the theories of X-ray crystallography and thermoluminescence, and unified field theory. Bose’s Planck’s Law and the Hypothesis of Light Quanta (1924) led Einstein to seek him out for collaboration.',\n",
       " 'In 1924 an Indian physicist called Satyendra Nath Bose wrote to Albert Einstein saying he had solved a problem in quantum physics that had stumped the great man. One century on, Robert P Crease and Gino Elia explain how the correspondence led to the notion of Bose–Einstein condensation and why it revealed the power of diverse thinking. Short but sweet In 1924 Satyendra Nath Bose (left) wrote to Albert Einstein (right) saying he had developed a more satisfactory derivation of Planck’s law. The resulting correspondence, which was brief but deep, led to the prediction of what we now call Bose–Einstein condensation. (Courtesy: Left: Falguni Sarkar, courtesy AIP Emilio Segrè Visual Archives. Right: AIP Emilio Segrè Visual Archives, W. F. Meggers Gallery of Nobel Laureates Collection) One day in June 1924, Albert Einstein received a letter written by a professor in India. The author admitted he was a “complete stranger” but said he was sending Einstein an accompanying article for his “perusal and opinion”. Just five pages long, the article claimed to address a flaw in quantum theory that Einstein had struggled unsuccessfully with for several years.\\n\\nEinstein, who was then at the University of Berlin, immediately realized that the author – Satyendra Nath Bose – had solved the problem that had defeated him. It concerned a fully satisfactory derivation of Planck’s law, which describes the spectrum of radiation from a black body. First derived by Max Planck in 1900, the law showed that the radiation does not rise to infinity at ever-shorter wavelengths as classical physics suggests, but instead peaks before falling back. Einstein quickly developed Bose’s approach further in his own work and, as a result of their collaboration, the pair predicted the existence of a new phenomenon, dubbed “Bose–Einstein condensation”. Anticipated to occur at very low temperatures, it would involve all particles in a system occupying the same lowest quantum state. This new collective state of matter was experimentally detected for the first time in 1995, leading to Eric Cornell, Wolfgang Ketterle and Carl Wieman winning the Nobel Prize for Physics six years later.\\n\\nThe Bose–Einstein exchange may have been brief, but it is one of the great correspondences in the history of physics. Writing in the 2020 book The Making of Modern Physics in Colonial India, the historian and philosopher of science Somaditya Banerjee, who is now at Austin Peay State University in Clarksville, Tennessee, says their collaboration illustrated the growing importance of international joint efforts in science. Or, as Banerjee puts it, their work revealed the “transnational nature of the quantum”.']"
      ]
     },
     "execution_count": 38,
     "metadata": {},
     "output_type": "execute_result"
    }
   ],
   "source": [
    "lstSrtContent=[doc.page_content for doc in lstDoc]\n",
    "lstSrtContent"
   ]
  },
  {
   "cell_type": "markdown",
   "metadata": {},
   "source": [
    "GCP Information"
   ]
  },
  {
   "cell_type": "code",
   "execution_count": 39,
   "metadata": {},
   "outputs": [],
   "source": [
    "\n",
    "PROJECT_ID = os.getenv('PROJECT_ID') \n",
    "\n",
    "# Set the project id\n",
    "#! gcloud config set project {PROJECT_ID}\n",
    "\n",
    "REGION = os.getenv('REGION') \n",
    "DATASET = os.getenv('DATASET') \n",
    "TABLE = os.getenv('TABLE')  \n",
    "\n",
    "os.environ[\"GOOGLE_API_KEY\"]=os.getenv('GOOGLE_API_KEY')  "
   ]
  },
  {
   "cell_type": "markdown",
   "metadata": {},
   "source": [
    "#### Embedding"
   ]
  },
  {
   "cell_type": "code",
   "execution_count": 40,
   "metadata": {},
   "outputs": [],
   "source": [
    "\n",
    "\n",
    "embedding = VertexAIEmbeddings(\n",
    "    model_name=os.getenv('MODEL_NAME') , project=PROJECT_ID\n",
    ")"
   ]
  },
  {
   "cell_type": "markdown",
   "metadata": {},
   "source": [
    "#### Creating the Vector DB"
   ]
  },
  {
   "cell_type": "code",
   "execution_count": 41,
   "metadata": {},
   "outputs": [
    {
     "data": {
      "text/plain": [
       "Dataset(DatasetReference('proj-traning', 'vector_dataset'))"
      ]
     },
     "execution_count": 41,
     "metadata": {},
     "output_type": "execute_result"
    }
   ],
   "source": [
    "\n",
    "\n",
    "client = bigquery.Client(project=PROJECT_ID, location=REGION)\n",
    "client.create_dataset(dataset=DATASET, exists_ok=True)\n",
    "\n"
   ]
  },
  {
   "cell_type": "markdown",
   "metadata": {},
   "source": [
    "https://api.python.langchain.com/en/latest/vectorstores/langchain_community.vectorstores.utils.DistanceStrategy.html\n",
    "\n",
    "https://api.python.langchain.com/en/latest/vectorstores/langchain_community.vectorstores.bigquery_vector_search.BigQueryVectorSearch.html"
   ]
  },
  {
   "cell_type": "code",
   "execution_count": 42,
   "metadata": {},
   "outputs": [],
   "source": [
    "\n",
    "\n",
    "store = BigQueryVectorSearch(\n",
    "    project_id=PROJECT_ID,\n",
    "    dataset_name=DATASET,\n",
    "    table_name=TABLE,\n",
    "    location=REGION,\n",
    "    embedding=embedding,\n",
    "    distance_strategy=DistanceStrategy.EUCLIDEAN_DISTANCE,\n",
    ")"
   ]
  },
  {
   "cell_type": "markdown",
   "metadata": {},
   "source": [
    "#### Adding Doccument to the Vector DB"
   ]
  },
  {
   "cell_type": "code",
   "execution_count": 43,
   "metadata": {},
   "outputs": [
    {
     "data": {
      "text/plain": [
       "['9c56632480f84edf92c9a922c13736cb',\n",
       " '1973f2f4be314f89b7ea79fb7078249a',\n",
       " '7e3394e4f0834fc99875552948c015ed',\n",
       " '7f7158be0e654046ad6203e2e110fd63',\n",
       " '3ec26e88f3be436689df421ec5710dc3',\n",
       " '3d08ab41745c4180bab0d1fbead3668d',\n",
       " '687ba21f6cd643fa98fa4fe71097f2fa']"
      ]
     },
     "execution_count": 43,
     "metadata": {},
     "output_type": "execute_result"
    }
   ],
   "source": [
    "store.add_documents(lstDoc)"
   ]
  },
  {
   "cell_type": "markdown",
   "metadata": {},
   "source": [
    "#### Search Data"
   ]
  },
  {
   "cell_type": "code",
   "execution_count": 47,
   "metadata": {},
   "outputs": [
    {
     "name": "stdout",
     "output_type": "stream",
     "text": [
      "[Document(metadata={'Id': 6, 'source': 'gs://strg-light-sourcedoc/SNB and Einstein.txt', '__id': '687ba21f6cd643fa98fa4fe71097f2fa', '__job_id': 'job_CB6zWdvCrUHLb5iAcIytSi3BgY1d'}, page_content='In 1924 an Indian physicist called Satyendra Nath Bose wrote to Albert Einstein saying he had solved a problem in quantum physics that had stumped the great man. One century on, Robert P Crease and Gino Elia explain how the correspondence led to the notion of Bose–Einstein condensation and why it revealed the power of diverse thinking. Short but sweet In 1924 Satyendra Nath Bose (left) wrote to Albert Einstein (right) saying he had developed a more satisfactory derivation of Planck’s law. The resulting correspondence, which was brief but deep, led to the prediction of what we now call Bose–Einstein condensation. (Courtesy: Left: Falguni Sarkar, courtesy AIP Emilio Segrè Visual Archives. Right: AIP Emilio Segrè Visual Archives, W. F. Meggers Gallery of Nobel Laureates Collection) One day in June 1924, Albert Einstein received a letter written by a professor in India. The author admitted he was a “complete stranger” but said he was sending Einstein an accompanying article for his “perusal and opinion”. Just five pages long, the article claimed to address a flaw in quantum theory that Einstein had struggled unsuccessfully with for several years.\\n\\nEinstein, who was then at the University of Berlin, immediately realized that the author – Satyendra Nath Bose – had solved the problem that had defeated him. It concerned a fully satisfactory derivation of Planck’s law, which describes the spectrum of radiation from a black body. First derived by Max Planck in 1900, the law showed that the radiation does not rise to infinity at ever-shorter wavelengths as classical physics suggests, but instead peaks before falling back. Einstein quickly developed Bose’s approach further in his own work and, as a result of their collaboration, the pair predicted the existence of a new phenomenon, dubbed “Bose–Einstein condensation”. Anticipated to occur at very low temperatures, it would involve all particles in a system occupying the same lowest quantum state. This new collective state of matter was experimentally detected for the first time in 1995, leading to Eric Cornell, Wolfgang Ketterle and Carl Wieman winning the Nobel Prize for Physics six years later.\\n\\nThe Bose–Einstein exchange may have been brief, but it is one of the great correspondences in the history of physics. Writing in the 2020 book The Making of Modern Physics in Colonial India, the historian and philosopher of science Somaditya Banerjee, who is now at Austin Peay State University in Clarksville, Tennessee, says their collaboration illustrated the growing importance of international joint efforts in science. Or, as Banerjee puts it, their work revealed the “transnational nature of the quantum”.')]\n"
     ]
    }
   ],
   "source": [
    "\n",
    "\n",
    "query='S N Bose'\n",
    "filter={\n",
    "    \"Id\":6    \n",
    "    }\n",
    "query_vector = embedding.embed_query(query)\n",
    "\n",
    "#ret_Val2 = store.similarity_search_by_vector(query_vector)\n",
    "ret_Val2 = store.similarity_search_by_vector(query_vector,filter=filter)\n",
    "\n",
    "print(ret_Val2)\n",
    "\n",
    "json_output=[{'page_content': doc.page_content, 'metadata': doc.metadata} for doc in ret_Val2]\n",
    "\n",
    "with open('VectorSearch.json', \"w\") as json_file:\n",
    "        json.dump(json_output, json_file, indent=4)"
   ]
  },
  {
   "cell_type": "markdown",
   "metadata": {},
   "source": [
    "#### The Retriever"
   ]
  },
  {
   "cell_type": "code",
   "execution_count": 48,
   "metadata": {},
   "outputs": [],
   "source": [
    "retriever = store.as_retriever()"
   ]
  },
  {
   "cell_type": "markdown",
   "metadata": {},
   "source": [
    "#### The Chat Model"
   ]
  },
  {
   "cell_type": "code",
   "execution_count": 49,
   "metadata": {},
   "outputs": [],
   "source": [
    "\n",
    "model=ChatVertexAI(model=\"gemini-pro\")"
   ]
  },
  {
   "cell_type": "markdown",
   "metadata": {},
   "source": [
    "#### Executing Chain [LangChain Expression Language (LCEL)]\n",
    "\n",
    "https://python.langchain.com/v0.2/docs/concepts/#langchain-expression-language-lcel\n",
    "\n",
    "https://python.langchain.com/v0.2/docs/concepts/#runnable-interface\n",
    "\n"
   ]
  },
  {
   "cell_type": "code",
   "execution_count": 50,
   "metadata": {},
   "outputs": [
    {
     "data": {
      "text/plain": [
       "'## S N Bose: A Renowned Indian Physicist\\n\\n## Contributions:\\n\\n* Collaborated with Albert Einstein on the theory of the gaslike qualities of electromagnetic radiation.\\n* Developed a more satisfactory derivation of Planck\\'s Law, which led to the prediction of Bose–Einstein condensation. \\n* Conducted research and published papers in various fields:\\n    * Statistical mechanics\\n    * Electromagnetic properties of the ionosphere\\n    * Theories of X-ray crystallography and thermoluminescence\\n    * Unified field theory\\n\\n## Education and Career:\\n\\n* Graduated from the University of Calcutta\\n* Taught at the University of Dacca (1921–45) and then at Calcutta (1945–56)\\n\\n## Collaboration with Einstein:\\n\\n* Their collaboration helped bridge the \"transnational nature of the quantum\"\\n* It exemplified the growing importance of international collaboration in science\\n\\n## Legacy:\\n\\n* His work has had a significant impact on physics, particularly in the areas of quantum mechanics and cosmology.\\n* The Bose–Einstein statistics and the Bose–Einstein condensate are named after him.\\n\\n'"
      ]
     },
     "execution_count": 50,
     "metadata": {},
     "output_type": "execute_result"
    }
   ],
   "source": [
    "template = \"\"\"Answer the question based only on the following context:\n",
    "{context}\n",
    "\n",
    "Question: {question}\n",
    "\"\"\"\n",
    "prompt = ChatPromptTemplate.from_template(template)\n",
    "output_parser = StrOutputParser()\n",
    "\n",
    "setup_and_retrieval = RunnableParallel(\n",
    "    {\"context\": retriever, \"question\": RunnablePassthrough()}\n",
    ")\n",
    "chain = setup_and_retrieval | prompt | model | output_parser\n",
    "\n",
    "chain.invoke(\"Who was S N Bose?\")"
   ]
  }
 ],
 "metadata": {
  "kernelspec": {
   "display_name": ".venv",
   "language": "python",
   "name": "python3"
  },
  "language_info": {
   "codemirror_mode": {
    "name": "ipython",
    "version": 3
   },
   "file_extension": ".py",
   "mimetype": "text/x-python",
   "name": "python",
   "nbconvert_exporter": "python",
   "pygments_lexer": "ipython3",
   "version": "3.12.4"
  }
 },
 "nbformat": 4,
 "nbformat_minor": 2
}

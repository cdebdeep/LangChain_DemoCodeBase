{
 "cells": [
  {
   "cell_type": "markdown",
   "metadata": {},
   "source": [
    "# Custom Tools"
   ]
  },
  {
   "cell_type": "markdown",
   "metadata": {},
   "source": [
    "## 1. Way 1\n",
    "** Using @tool decorator\n"
   ]
  },
  {
   "cell_type": "markdown",
   "metadata": {},
   "source": [
    "This @tool decorator is the simplest way to define a custom tool. The decorator uses the function name as the tool name by default, but this can be overridden by passing a string as the first argument. Additionally, the decorator will use the function's docstring as the tool's description - so a docstring MUST be provided.\n",
    "\n",
    "https://python.langchain.com/v0.1/docs/modules/tools/custom_tools/"
   ]
  },
  {
   "cell_type": "code",
   "execution_count": null,
   "metadata": {},
   "outputs": [],
   "source": [
    "from langchain.tools import tool ,BaseTool\n",
    "from langchain.pydantic_v1 import BaseModel, Field"
   ]
  },
  {
   "cell_type": "markdown",
   "metadata": {},
   "source": [
    "**write a very simple function**"
   ]
  },
  {
   "cell_type": "code",
   "execution_count": 26,
   "metadata": {},
   "outputs": [],
   "source": [
    "# write a very simple function\n",
    "#decorate it with @tool\n",
    "#place the docstring\n",
    "@tool\n",
    "def fnc_multiply(a: int, b: int) -> int:\n",
    "    \"\"\"Multiply two numbers.\"\"\"\n",
    "    return a * b"
   ]
  },
  {
   "cell_type": "code",
   "execution_count": 27,
   "metadata": {},
   "outputs": [
    {
     "data": {
      "text/plain": [
       "langchain_core.tools.StructuredTool"
      ]
     },
     "execution_count": 27,
     "metadata": {},
     "output_type": "execute_result"
    }
   ],
   "source": [
    "type(fnc_multiply)\n"
   ]
  },
  {
   "cell_type": "code",
   "execution_count": 28,
   "metadata": {},
   "outputs": [
    {
     "name": "stdout",
     "output_type": "stream",
     "text": [
      "fnc_multiply\n",
      "fnc_multiply(a: int, b: int) -> int - Multiply two numbers.\n",
      "{'a': {'title': 'A', 'type': 'integer'}, 'b': {'title': 'B', 'type': 'integer'}}\n"
     ]
    }
   ],
   "source": [
    "print(fnc_multiply.name)\n",
    "print(fnc_multiply.description)\n",
    "print(fnc_multiply.args)"
   ]
  },
  {
   "cell_type": "markdown",
   "metadata": {},
   "source": [
    "similar approach but this time we give it the tool a **separate name**"
   ]
  },
  {
   "cell_type": "code",
   "execution_count": 29,
   "metadata": {},
   "outputs": [],
   "source": [
    "#similar approach but this time we give it the tool a **separate name**\n",
    "@tool(\"multiply\")\n",
    "def fnc_multiply(a: int, b: int) -> int:\n",
    "    \"\"\"Multiply two numbers.\"\"\"\n",
    "    return a * b"
   ]
  },
  {
   "cell_type": "code",
   "execution_count": 30,
   "metadata": {},
   "outputs": [
    {
     "name": "stdout",
     "output_type": "stream",
     "text": [
      "multiply\n",
      "multiply(a: int, b: int) -> int - Multiply two numbers.\n",
      "{'a': {'title': 'A', 'type': 'integer'}, 'b': {'title': 'B', 'type': 'integer'}}\n"
     ]
    }
   ],
   "source": [
    "print(fnc_multiply.name)\n",
    "print(fnc_multiply.description)\n",
    "print(fnc_multiply.args)"
   ]
  },
  {
   "cell_type": "markdown",
   "metadata": {},
   "source": [
    "## 2. Way 2\n",
    "** Using the Tool class - split the function & tool"
   ]
  },
  {
   "cell_type": "code",
   "execution_count": 31,
   "metadata": {},
   "outputs": [],
   "source": [
    "from langchain.tools import Tool\n",
    "\n",
    "def fnc_multiply(a: int, b: int) -> int:\n",
    "    \"\"\"Multiply 'a' times 'b'.\"\"\"\n",
    "    return a * b\n",
    "\n",
    "multiply:Tool = Tool(\n",
    "    name=\"multiply\",\n",
    "    func=fnc_multiply,\n",
    "    description=\"Use this tool to Multiply 'a' times 'b'.\"\n",
    "                )"
   ]
  },
  {
   "cell_type": "code",
   "execution_count": 32,
   "metadata": {},
   "outputs": [
    {
     "name": "stdout",
     "output_type": "stream",
     "text": [
      "multiply\n",
      "Use this tool to Multiply 'a' times 'b'.\n",
      "{'tool_input': {'type': 'string'}}\n"
     ]
    }
   ],
   "source": [
    "print(multiply.name)\n",
    "print(multiply.description)\n",
    "print(multiply.args)"
   ]
  },
  {
   "cell_type": "markdown",
   "metadata": {},
   "source": [
    "## 3. Way 3\n",
    "Subclass BaseTool\n",
    "\n",
    "You can also explicitly define a custom tool by subclassing the BaseTool class. This provides maximal control over the tool definition, but is a bit more work."
   ]
  },
  {
   "cell_type": "code",
   "execution_count": null,
   "metadata": {},
   "outputs": [],
   "source": [
    "\n",
    "from langchain.pydantic_v1 import BaseModel, Field\n",
    "from langchain.tools import BaseTool, StructuredTool, tool\n",
    "from typing import Union\n"
   ]
  },
  {
   "cell_type": "code",
   "execution_count": 33,
   "metadata": {},
   "outputs": [],
   "source": [
    "# a simple example !!\n",
    "\n",
    "class Multiply(BaseTool):\n",
    "    name=\"multiply\"\n",
    "    description=\"Use this tool to multiply two numbers\"\n",
    "    \n",
    "    def _run(self,x:Union[int,float],y:Union[int,float])->float:\n",
    "        return float(x * y)\n",
    "    \n",
    "    def _arun(self,x:Union[int,float],y:Union[int,float])->float:\n",
    "        raise NotImplementedError(\"This tool does not support async\")\n",
    "    "
   ]
  },
  {
   "cell_type": "code",
   "execution_count": 35,
   "metadata": {},
   "outputs": [],
   "source": [
    "# now more control !!\n",
    "from langchain.pydantic_v1 import BaseModel, Field\n",
    "from langchain.tools import BaseTool, StructuredTool, tool\n",
    "from typing import Union\n",
    "\n",
    "from typing import Optional, Type\n",
    "from langchain.callbacks.manager import (\n",
    "    AsyncCallbackManagerForToolRun,\n",
    "    CallbackManagerForToolRun,\n",
    ")\n",
    "\n",
    "class MultiplyInput(BaseModel):\n",
    "    x: int = Field(description=\"first number\")\n",
    "    y: int = Field(description=\"second number\")\n",
    "\n",
    "class Multiply(BaseTool):\n",
    "    name=\"multiply\"\n",
    "    description=\"Use this tool to multiply two numbers\"\n",
    "    \n",
    "    args_schema: Type[BaseModel] = MultiplyInput\n",
    "    return_direct: bool = True\n",
    "    \n",
    "    def _run(self,x:Union[int,float],y:Union[int,float],run_manager:Optional[CallbackManagerForToolRun]=None)->float:\n",
    "        return float(x * y)\n",
    "    \n",
    "    def _arun(self,x:Union[int,float],y:Union[int,float],run_manager:Optional[CallbackManagerForToolRun]=None)->float:\n",
    "        \"\"\"Use the tool asynchronously.\"\"\"\n",
    "        raise NotImplementedError(\"Calculator does not support async\")\n"
   ]
  },
  {
   "cell_type": "code",
   "execution_count": 36,
   "metadata": {},
   "outputs": [
    {
     "name": "stdout",
     "output_type": "stream",
     "text": [
      "multiply\n",
      "Use this tool to multiply two numbers\n",
      "{'x': {'title': 'X', 'description': 'first number', 'type': 'integer'}, 'y': {'title': 'Y', 'description': 'second number', 'type': 'integer'}}\n",
      "True\n"
     ]
    }
   ],
   "source": [
    "multiply = Multiply()\n",
    "print(multiply.name)\n",
    "print(multiply.description)\n",
    "print(multiply.args)\n",
    "print(multiply.return_direct)"
   ]
  },
  {
   "cell_type": "markdown",
   "metadata": {},
   "source": [
    "## 4. Way 4\n",
    "StructuredTool dataclass\n",
    "\n",
    "You can also use a StructuredTool dataclass. This methods is a mix between the previous two. It's more convenient than inheriting from the BaseTool class, but provides more functionality than just using a decorator."
   ]
  },
  {
   "cell_type": "code",
   "execution_count": null,
   "metadata": {},
   "outputs": [],
   "source": [
    "from langchain.tools import BaseTool, StructuredTool, tool"
   ]
  },
  {
   "cell_type": "code",
   "execution_count": 37,
   "metadata": {},
   "outputs": [],
   "source": [
    "def fnc_multiply(a: int, b: int) -> int:\n",
    "    \"\"\"Multiply two numbers.\"\"\"\n",
    "    return a * b\n",
    "\n",
    "multiplyTool = StructuredTool.from_function(\n",
    "    name=\"multiplyTool\",\n",
    "    func=fnc_multiply,\n",
    "    description=\"Use this method to multiply two numbers.\"\n",
    ")"
   ]
  },
  {
   "cell_type": "code",
   "execution_count": 38,
   "metadata": {},
   "outputs": [
    {
     "name": "stdout",
     "output_type": "stream",
     "text": [
      "multiplyTool\n",
      "multiplyTool(a: int, b: int) -> int - Use this method to multiply two numbers.\n",
      "{'a': {'title': 'A', 'type': 'integer'}, 'b': {'title': 'B', 'type': 'integer'}}\n"
     ]
    }
   ],
   "source": [
    "print(multiplyTool.name)\n",
    "print(multiplyTool.description)\n",
    "print(multiplyTool.args)"
   ]
  },
  {
   "cell_type": "markdown",
   "metadata": {},
   "source": [
    "## Comparision Direct LLM call vs. Agent Call !!!"
   ]
  },
  {
   "cell_type": "code",
   "execution_count": 39,
   "metadata": {},
   "outputs": [],
   "source": [
    "from HelperAIKey import fnc_getOpenAIKey , fnc_getTavilyKey\n",
    "from langchain_openai import ChatOpenAI\n",
    "\n",
    "llm = ChatOpenAI(api_key=fnc_getOpenAIKey(), verbose=True)  # Put your openAI key here "
   ]
  },
  {
   "cell_type": "code",
   "execution_count": 40,
   "metadata": {},
   "outputs": [
    {
     "data": {
      "text/plain": [
       "AIMessage(content='2 x 3 = 6', response_metadata={'token_usage': {'completion_tokens': 7, 'prompt_tokens': 13, 'total_tokens': 20}, 'model_name': 'gpt-3.5-turbo', 'system_fingerprint': None, 'finish_reason': 'stop', 'logprobs': None}, id='run-4c2bcf15-eea1-42f7-95d5-3f56c84f2b45-0')"
      ]
     },
     "execution_count": 40,
     "metadata": {},
     "output_type": "execute_result"
    }
   ],
   "source": [
    "llm.invoke('multiply 2 and 3')"
   ]
  },
  {
   "cell_type": "code",
   "execution_count": 41,
   "metadata": {},
   "outputs": [
    {
     "name": "stdout",
     "output_type": "stream",
     "text": [
      "\n",
      "\n",
      "\u001b[1m> Entering new AgentExecutor chain...\u001b[0m\n",
      "\u001b[32;1m\u001b[1;3m\n",
      "Invoking: `multiplyTool` with `{'a': 2, 'b': 3}`\n",
      "\n",
      "\n",
      "\u001b[0m\u001b[36;1m\u001b[1;3m6\u001b[0m\u001b[32;1m\u001b[1;3mThe result of multiplying 2 and 3 is 6.\u001b[0m\n",
      "\n",
      "\u001b[1m> Finished chain.\u001b[0m\n"
     ]
    },
    {
     "data": {
      "text/plain": [
       "{'input': 'multiply 2 and 3',\n",
       " 'output': 'The result of multiplying 2 and 3 is 6.'}"
      ]
     },
     "execution_count": 41,
     "metadata": {},
     "output_type": "execute_result"
    }
   ],
   "source": [
    "from langchain.agents import create_tool_calling_agent, AgentExecutor\n",
    "from langchain_core.prompts import ChatPromptTemplate\n",
    "\n",
    "tools = [multiplyTool]\n",
    "llm_with_tools = llm.bind_tools([multiplyTool])\n",
    "\n",
    "prompt = ChatPromptTemplate.from_messages([\n",
    "    (\"system\", \"you're a helpful assistant\"), \n",
    "    (\"human\", \"{input}\"), \n",
    "    (\"placeholder\", \"{agent_scratchpad}\"),\n",
    "])\n",
    "\n",
    "agent = create_tool_calling_agent(llm, tools, prompt)\n",
    "agent_executor = AgentExecutor(agent=agent, tools=tools, verbose=True)\n",
    "\n",
    "agent_executor.invoke({\"input\": \"multiply 2 and 3\", })"
   ]
  },
  {
   "cell_type": "code",
   "execution_count": 42,
   "metadata": {},
   "outputs": [
    {
     "data": {
      "text/plain": [
       "AIMessage(content='import pandas as pd\\n\\ndata = [[1, 2, 3], [4, 5, 6], [7, 8, 9]]\\ndf = pd.DataFrame(data)\\ndf', response_metadata={'token_usage': {'completion_tokens': 41, 'prompt_tokens': 55, 'total_tokens': 96}, 'model_name': 'gpt-3.5-turbo', 'system_fingerprint': None, 'finish_reason': 'stop', 'logprobs': None}, id='run-5417a33c-7d3f-4352-8133-5e4730296901-0')"
      ]
     },
     "execution_count": 42,
     "metadata": {},
     "output_type": "execute_result"
    }
   ],
   "source": [
    "\n",
    "\n",
    "llm.invoke('create a panda dataframe from the following [[1, 2, 3], [4, 5, 6], [7, 8, 9]] and parse the output to panda dataframe and return only the as final output')"
   ]
  },
  {
   "cell_type": "code",
   "execution_count": 43,
   "metadata": {},
   "outputs": [
    {
     "name": "stdout",
     "output_type": "stream",
     "text": [
      "<class 'list'>\n"
     ]
    }
   ],
   "source": [
    "lst = [[1, 2, 3], [4, 5, 6], [7, 8, 9]]\n",
    "print(type(lst))"
   ]
  },
  {
   "cell_type": "code",
   "execution_count": 44,
   "metadata": {},
   "outputs": [],
   "source": [
    "import pandas as pd\n",
    "\n",
    "def fnc_pddffromlst(data:list) -> pd.DataFrame:\n",
    "    \"\"\"generate a Panda DataFrame from a list.\"\"\"\n",
    "    print('using fnc_pddffromlst')\n",
    "    return pd.DataFrame(data)\n",
    "\n",
    "fnc_pddffromlstTool = StructuredTool.from_function(\n",
    "    name=\"fnc_pddffromlstTool\",\n",
    "    func=fnc_pddffromlst,\n",
    "    description=\"Use this method to mgenerate a Panda DataFrame from a list.\"\n",
    ")"
   ]
  },
  {
   "cell_type": "code",
   "execution_count": 45,
   "metadata": {},
   "outputs": [],
   "source": [
    "import re\n",
    "def fnc_pddffromdict(data) -> pd.DataFrame:\n",
    "    \"\"\"parse the output to panda dataframe and return as panda data frame.\"\"\"\n",
    "    print('using fnc_pddffromdict')\n",
    "    print(data)\n",
    "    #df_text = re.search(r'```(.*?)```', data['output'], re.DOTALL).group(1).strip()\n",
    "\n",
    "    # Split the lines\n",
    "    #lines = df_text.split('\\n')\n",
    "\n",
    "    # Convert the lines to a list of lists (skipping the header line)\n",
    "    #data = [list(map(int, line.split())) for line in lines[1:]]\n",
    "\n",
    "    #print(data)\n",
    "\n",
    "    #pd.DataFrame(data)\n",
    "    return pd.DataFrame(data)\n",
    "\n",
    "fnc_pddffromdictTool = StructuredTool.from_function(\n",
    "    name=\"fnc_pddffromdictTool\",\n",
    "    func=fnc_pddffromdict,\n",
    "    description=\"Use this tool to parse the output to panda dataframe and return as panda data frame.\"\n",
    ")"
   ]
  },
  {
   "cell_type": "code",
   "execution_count": 46,
   "metadata": {},
   "outputs": [
    {
     "name": "stdout",
     "output_type": "stream",
     "text": [
      "\n",
      "\n",
      "\u001b[1m> Entering new AgentExecutor chain...\u001b[0m\n",
      "\u001b[32;1m\u001b[1;3m\n",
      "Invoking: `fnc_pddffromlstTool` with `{'data': [[1, 2, 3], [4, 5, 6], [7, 8, 9]]}`\n",
      "\n",
      "\n",
      "\u001b[0musing fnc_pddffromlst\n",
      "\u001b[36;1m\u001b[1;3m   0  1  2\n",
      "0  1  2  3\n",
      "1  4  5  6\n",
      "2  7  8  9\u001b[0m\u001b[32;1m\u001b[1;3m   0  1  2\n",
      "0  1  2  3\n",
      "1  4  5  6\n",
      "2  7  8  9\u001b[0m\n",
      "\n",
      "\u001b[1m> Finished chain.\u001b[0m\n",
      "{'input': 'create a panda dataframe from the following [[1, 2, 3], [4, 5, 6], [7, 8, 9]] and parse the output to panda dataframe and return only the as final output', 'output': '   0  1  2\\n0  1  2  3\\n1  4  5  6\\n2  7  8  9'}\n"
     ]
    }
   ],
   "source": [
    "from langchain.agents import create_tool_calling_agent, AgentExecutor\n",
    "from langchain_core.prompts import ChatPromptTemplate\n",
    "\n",
    "tools = [fnc_pddffromlstTool]\n",
    "llm_with_tools = llm.bind_tools([fnc_pddffromlstTool])\n",
    "\n",
    "prompt = ChatPromptTemplate.from_messages([\n",
    "    (\"system\", \"you're a helpful assistant, do not retrun the input tag, retrun only the final output\"), \n",
    "    (\"human\", \"{input}\"),    \n",
    "    (\"placeholder\", \"{agent_scratchpad}\"),\n",
    "])\n",
    "\n",
    "agent = create_tool_calling_agent(llm, tools, prompt)\n",
    "agent_executor = AgentExecutor(agent=agent, tools=tools, verbose=True)\n",
    "\n",
    "\n",
    "\n",
    "\n",
    "_retVal = agent_executor.invoke({\"input\": \"create a panda dataframe from the following [[1, 2, 3], [4, 5, 6], [7, 8, 9]] and parse the output to panda dataframe and return only the as final output\" , })\n",
    "print(_retVal)"
   ]
  },
  {
   "cell_type": "code",
   "execution_count": 47,
   "metadata": {},
   "outputs": [
    {
     "data": {
      "text/plain": [
       "'   0  1  2\\n0  1  2  3\\n1  4  5  6\\n2  7  8  9'"
      ]
     },
     "execution_count": 47,
     "metadata": {},
     "output_type": "execute_result"
    }
   ],
   "source": [
    "_retVal['output']"
   ]
  },
  {
   "cell_type": "code",
   "execution_count": 48,
   "metadata": {},
   "outputs": [],
   "source": [
    "import io\n",
    "def fnc_finalOutPut(data) -> pd.DataFrame:\n",
    "    # Convert the string into a file-like object\n",
    "    data_io = io.StringIO(data['output'])\n",
    "\n",
    "# Read the data into a Pandas DataFrame\n",
    "    df = pd.read_csv(data_io, sep='\\\\s+', index_col=0)\n",
    "\n",
    "    #pd.DataFrame(data)\n",
    "    return df"
   ]
  },
  {
   "cell_type": "code",
   "execution_count": 49,
   "metadata": {},
   "outputs": [
    {
     "data": {
      "text/html": [
       "<div>\n",
       "<style scoped>\n",
       "    .dataframe tbody tr th:only-of-type {\n",
       "        vertical-align: middle;\n",
       "    }\n",
       "\n",
       "    .dataframe tbody tr th {\n",
       "        vertical-align: top;\n",
       "    }\n",
       "\n",
       "    .dataframe thead th {\n",
       "        text-align: right;\n",
       "    }\n",
       "</style>\n",
       "<table border=\"1\" class=\"dataframe\">\n",
       "  <thead>\n",
       "    <tr style=\"text-align: right;\">\n",
       "      <th></th>\n",
       "      <th>0</th>\n",
       "      <th>1</th>\n",
       "      <th>2</th>\n",
       "    </tr>\n",
       "  </thead>\n",
       "  <tbody>\n",
       "    <tr>\n",
       "      <th>0</th>\n",
       "      <td>1</td>\n",
       "      <td>2</td>\n",
       "      <td>3</td>\n",
       "    </tr>\n",
       "    <tr>\n",
       "      <th>1</th>\n",
       "      <td>4</td>\n",
       "      <td>5</td>\n",
       "      <td>6</td>\n",
       "    </tr>\n",
       "    <tr>\n",
       "      <th>2</th>\n",
       "      <td>7</td>\n",
       "      <td>8</td>\n",
       "      <td>9</td>\n",
       "    </tr>\n",
       "  </tbody>\n",
       "</table>\n",
       "</div>"
      ],
      "text/plain": [
       "   0  1  2\n",
       "0  1  2  3\n",
       "1  4  5  6\n",
       "2  7  8  9"
      ]
     },
     "execution_count": 49,
     "metadata": {},
     "output_type": "execute_result"
    }
   ],
   "source": [
    "fnc_finalOutPut(_retVal)"
   ]
  }
 ],
 "metadata": {
  "kernelspec": {
   "display_name": ".venv",
   "language": "python",
   "name": "python3"
  },
  "language_info": {
   "codemirror_mode": {
    "name": "ipython",
    "version": 3
   },
   "file_extension": ".py",
   "mimetype": "text/x-python",
   "name": "python",
   "nbconvert_exporter": "python",
   "pygments_lexer": "ipython3",
   "version": "3.12.3"
  }
 },
 "nbformat": 4,
 "nbformat_minor": 2
}

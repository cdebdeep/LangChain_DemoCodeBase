{
 "cells": [
  {
   "cell_type": "markdown",
   "metadata": {},
   "source": [
    "# Purpose : Read PDF dir , do rag, use LangChain LCEL , use OpenAI to generate Question Answer "
   ]
  },
  {
   "cell_type": "markdown",
   "metadata": {},
   "source": [
    "Steps\n",
    "1. Read pdf dir\n",
    "2. Ebedding using HuggingFace\n",
    "3. Chroma DB as Vertor DataBase\n",
    "4. Do RAG \n",
    "5. Save the output in html format\n",
    "6. Use OpenAI to generate Answer"
   ]
  },
  {
   "cell_type": "markdown",
   "metadata": {},
   "source": [
    "## PDF Read \n",
    "## Store in Chroma DB\n",
    "## Use Retriever to do Question / Answer"
   ]
  },
  {
   "cell_type": "code",
   "execution_count": null,
   "metadata": {},
   "outputs": [],
   "source": [
    "from langchain_community.embeddings import HuggingFaceEmbeddings\n",
    "from langchain.embeddings import OpenAIEmbeddings\n",
    "from langchain_chroma import Chroma\n",
    "import chromadb\n",
    "from langchain_text_splitters import RecursiveCharacterTextSplitter\n",
    "from langchain.text_splitter import CharacterTextSplitter\n",
    "from langchain_community.document_loaders import PyPDFLoader\n",
    "from langchain_core.documents.base import Document\n",
    "import os\n",
    "import json\n",
    "import pandas as pd\n",
    "\n",
    "\n",
    "#os.environ['OPENAI_API_KEY']='Put your API key here'"
   ]
  },
  {
   "cell_type": "code",
   "execution_count": null,
   "metadata": {},
   "outputs": [],
   "source": [
    "def GetChromaDB(pdfdirpath:str,collectionname:str)->Chroma:\n",
    "    pdf_folder_path = pdfdirpath\n",
    "    documents = []\n",
    "   \n",
    "    for file in os.listdir(pdf_folder_path):\n",
    "        if file.endswith('.pdf'):\n",
    "            pdf_path = os.path.join(pdf_folder_path, file)  \n",
    "            loader = PyPDFLoader(pdf_path)\n",
    "            documents.extend(loader.load())\n",
    "    text_splitter = CharacterTextSplitter(chunk_size=1000, chunk_overlap=10)\n",
    "    chunked_documents = text_splitter.split_documents(documents)\n",
    "    print('load done')\n",
    "    client = chromadb.Client()\n",
    "    collection = client.get_or_create_collection(\"python\")\n",
    "    \n",
    "    #embeddings = HuggingFaceEmbeddings()\n",
    "    embeddings = OpenAIEmbeddings()\n",
    "    \n",
    "    vectordb = Chroma.from_documents(\n",
    "        documents=chunked_documents,\n",
    "        embedding=embeddings,\n",
    "        persist_directory=\"D:\\\\ChromaDB\\\\chroma_store\\\\\",\n",
    "        collection_name=collectionname\n",
    "    )\n",
    "    \n",
    "    return vectordb"
   ]
  },
  {
   "cell_type": "code",
   "execution_count": 30,
   "metadata": {},
   "outputs": [
    {
     "name": "stdout",
     "output_type": "stream",
     "text": [
      "load done\n"
     ]
    }
   ],
   "source": [
    "vectorDB = GetChromaDB(pdfdirpath=\"D:\\\\doc\",collectionname=\"python\")"
   ]
  },
  {
   "cell_type": "code",
   "execution_count": 31,
   "metadata": {},
   "outputs": [],
   "source": [
    "retriever =vectorDB.as_retriever()"
   ]
  },
  {
   "cell_type": "code",
   "execution_count": 34,
   "metadata": {},
   "outputs": [
    {
     "name": "stdout",
     "output_type": "stream",
     "text": [
      "[Document(page_content='K\\nkey—An item that is associated with a value \\nand which is used to locate that value in a \\ncollection.\\nkeypunch machine —An early input device \\nthat allowed the user to enter programs and data onto punched cards.\\nkeys —Resources used to encrypt or decrypt \\ndata.\\nkeyword parameter —A type of parameter \\nthat allows the programmer to specify the name of the parameter and its value at the point of a function or method call.\\nl\\nlabel object —A window object that displays \\ntext or an image, usually to describe the roles of other window objects.\\nlambda —The mechanism by which an anony-\\nmous function is created.\\nlifetime —The time during which a data object \\nor method call exists.\\nlinear —A function expressing a rate of growth \\nof work in direct proportion to the size of a problem.\\nlinear loop structure —A loop that does not \\ncontain a nested loop.\\nlinear search —A type of search that examines \\neach value in a sequence, until a target value is found or the end of the sequence is reached.\\nlist—A sequence of items ordered by position.\\nliteral —An element of a language that evaluates \\nto itself, such as 34 or \"hi there.\"\\nloader —A software program that copies pro-\\ngram code and data from secondary memory into primary memory before program execution begins.\\nlocal host —The property of a computer that \\nallows it to receive connections from clients that integrated circuit —The arrangement of \\ncomputer hardware components in a single \\n miniaturized unit.\\nintegration —The phase of the software devel-\\nopment life cycle during which program compo-nents are brought together and tested. \\ninterface —A formal statement of how commu-\\nnication occurs between the user of a module (class or method) and its implementer.\\ninternal memory —Also called primary mem-\\nory, a device that provides temporary storage for data and programs for fast access by a com-puter’s central processing unit. See also \\nrandom \\naccess memory .\\nInternet host —The property of a computer that \\nallows it to receive connections from other com-puters on the Internet.\\ninterpreter —A program that translates and \\nexecutes another program.\\ninvertible matrix —A data structure used in a \\nblock cipher.\\nIP address —The unique location of an indi-\\nvidual computer on the Internet.\\nIP name —A representation of an IP address \\nthat uses letters and periods.\\nIP number —A representation of an IP address \\nthat uses digits and periods.\\nitem —See  element .\\niteration —See  loop .\\niterative —The process of moving forward \\nthrough the phases of software develop-ment and returning to earlier phases to make improvements or corrections.\\nJ\\njump table —A dictionary that associates com-\\nmand names with functions that are invoked when those functions are looked up in the table.446   \\nglossary\\nCopyright 2019 Cengage Learning. All Rights Reserved. May not be copied, scanned, or duplicated, in whole or in part. Due to electronic rights, some third party content may be suppressed from the eBook and/or eChapter(s).\\nEditorial review has deemed that any suppressed content does not materially affect the overall learning experience. Cengage Learning reserves the right to remove additional content at any time if subsequent rights restrictions require it.\\nCopyright 2019 Cengage Learning. All Rights Reserved. May not be copied, scanned, or duplicated, in whole or in part.  WCN 02-200-203', metadata={'page': 467, 'source': 'D:\\\\doc\\\\fundamentals-of-python-first-programs-2nd-edition_compress.pdf'}), Document(page_content='K\\nkey—An item that is associated with a value \\nand which is used to locate that value in a \\ncollection.\\nkeypunch machine —An early input device \\nthat allowed the user to enter programs and data onto punched cards.\\nkeys —Resources used to encrypt or decrypt \\ndata.\\nkeyword parameter —A type of parameter \\nthat allows the programmer to specify the name of the parameter and its value at the point of a function or method call.\\nl\\nlabel object —A window object that displays \\ntext or an image, usually to describe the roles of other window objects.\\nlambda —The mechanism by which an anony-\\nmous function is created.\\nlifetime —The time during which a data object \\nor method call exists.\\nlinear —A function expressing a rate of growth \\nof work in direct proportion to the size of a problem.\\nlinear loop structure —A loop that does not \\ncontain a nested loop.\\nlinear search —A type of search that examines \\neach value in a sequence, until a target value is found or the end of the sequence is reached.\\nlist—A sequence of items ordered by position.\\nliteral —An element of a language that evaluates \\nto itself, such as 34 or \"hi there.\"\\nloader —A software program that copies pro-\\ngram code and data from secondary memory into primary memory before program execution begins.\\nlocal host —The property of a computer that \\nallows it to receive connections from clients that integrated circuit —The arrangement of \\ncomputer hardware components in a single \\n miniaturized unit.\\nintegration —The phase of the software devel-\\nopment life cycle during which program compo-nents are brought together and tested. \\ninterface —A formal statement of how commu-\\nnication occurs between the user of a module (class or method) and its implementer.\\ninternal memory —Also called primary mem-\\nory, a device that provides temporary storage for data and programs for fast access by a com-puter’s central processing unit. See also \\nrandom \\naccess memory .\\nInternet host —The property of a computer that \\nallows it to receive connections from other com-puters on the Internet.\\ninterpreter —A program that translates and \\nexecutes another program.\\ninvertible matrix —A data structure used in a \\nblock cipher.\\nIP address —The unique location of an indi-\\nvidual computer on the Internet.\\nIP name —A representation of an IP address \\nthat uses letters and periods.\\nIP number —A representation of an IP address \\nthat uses digits and periods.\\nitem —See  element .\\niteration —See  loop .\\niterative —The process of moving forward \\nthrough the phases of software develop-ment and returning to earlier phases to make improvements or corrections.\\nJ\\njump table —A dictionary that associates com-\\nmand names with functions that are invoked when those functions are looked up in the table.446   \\nglossary\\nCopyright 2019 Cengage Learning. All Rights Reserved. May not be copied, scanned, or duplicated, in whole or in part. Due to electronic rights, some third party content may be suppressed from the eBook and/or eChapter(s).\\nEditorial review has deemed that any suppressed content does not materially affect the overall learning experience. Cengage Learning reserves the right to remove additional content at any time if subsequent rights restrictions require it.\\nCopyright 2019 Cengage Learning. All Rights Reserved. May not be copied, scanned, or duplicated, in whole or in part.  WCN 02-200-203', metadata={'page': 467, 'source': 'D:\\\\doc\\\\fundamentals-of-python-first-programs-2nd-edition_compress.pdf'}), Document(page_content='K\\nkey—An item that is associated with a value \\nand which is used to locate that value in a \\ncollection.\\nkeypunch machine —An early input device \\nthat allowed the user to enter programs and data onto punched cards.\\nkeys —Resources used to encrypt or decrypt \\ndata.\\nkeyword parameter —A type of parameter \\nthat allows the programmer to specify the name of the parameter and its value at the point of a function or method call.\\nl\\nlabel object —A window object that displays \\ntext or an image, usually to describe the roles of other window objects.\\nlambda —The mechanism by which an anony-\\nmous function is created.\\nlifetime —The time during which a data object \\nor method call exists.\\nlinear —A function expressing a rate of growth \\nof work in direct proportion to the size of a problem.\\nlinear loop structure —A loop that does not \\ncontain a nested loop.\\nlinear search —A type of search that examines \\neach value in a sequence, until a target value is found or the end of the sequence is reached.\\nlist—A sequence of items ordered by position.\\nliteral —An element of a language that evaluates \\nto itself, such as 34 or \"hi there.\"\\nloader —A software program that copies pro-\\ngram code and data from secondary memory into primary memory before program execution begins.\\nlocal host —The property of a computer that \\nallows it to receive connections from clients that integrated circuit —The arrangement of \\ncomputer hardware components in a single \\n miniaturized unit.\\nintegration —The phase of the software devel-\\nopment life cycle during which program compo-nents are brought together and tested. \\ninterface —A formal statement of how commu-\\nnication occurs between the user of a module (class or method) and its implementer.\\ninternal memory —Also called primary mem-\\nory, a device that provides temporary storage for data and programs for fast access by a com-puter’s central processing unit. See also \\nrandom \\naccess memory .\\nInternet host —The property of a computer that \\nallows it to receive connections from other com-puters on the Internet.\\ninterpreter —A program that translates and \\nexecutes another program.\\ninvertible matrix —A data structure used in a \\nblock cipher.\\nIP address —The unique location of an indi-\\nvidual computer on the Internet.\\nIP name —A representation of an IP address \\nthat uses letters and periods.\\nIP number —A representation of an IP address \\nthat uses digits and periods.\\nitem —See  element .\\niteration —See  loop .\\niterative —The process of moving forward \\nthrough the phases of software develop-ment and returning to earlier phases to make improvements or corrections.\\nJ\\njump table —A dictionary that associates com-\\nmand names with functions that are invoked when those functions are looked up in the table.446   \\nglossary\\nCopyright 2019 Cengage Learning. All Rights Reserved. May not be copied, scanned, or duplicated, in whole or in part. Due to electronic rights, some third party content may be suppressed from the eBook and/or eChapter(s).\\nEditorial review has deemed that any suppressed content does not materially affect the overall learning experience. Cengage Learning reserves the right to remove additional content at any time if subsequent rights restrictions require it.\\nCopyright 2019 Cengage Learning. All Rights Reserved. May not be copied, scanned, or duplicated, in whole or in part.  WCN 02-200-203', metadata={'page': 467, 'source': 'D:\\\\doc\\\\fundamentals-of-python-first-programs-2nd-edition_compress.pdf'}), Document(page_content='K\\nkey—An item that is associated with a value \\nand which is used to locate that value in a \\ncollection.\\nkeypunch machine —An early input device \\nthat allowed the user to enter programs and data onto punched cards.\\nkeys —Resources used to encrypt or decrypt \\ndata.\\nkeyword parameter —A type of parameter \\nthat allows the programmer to specify the name of the parameter and its value at the point of a function or method call.\\nl\\nlabel object —A window object that displays \\ntext or an image, usually to describe the roles of other window objects.\\nlambda —The mechanism by which an anony-\\nmous function is created.\\nlifetime —The time during which a data object \\nor method call exists.\\nlinear —A function expressing a rate of growth \\nof work in direct proportion to the size of a problem.\\nlinear loop structure —A loop that does not \\ncontain a nested loop.\\nlinear search —A type of search that examines \\neach value in a sequence, until a target value is found or the end of the sequence is reached.\\nlist—A sequence of items ordered by position.\\nliteral —An element of a language that evaluates \\nto itself, such as 34 or \"hi there.\"\\nloader —A software program that copies pro-\\ngram code and data from secondary memory into primary memory before program execution begins.\\nlocal host —The property of a computer that \\nallows it to receive connections from clients that integrated circuit —The arrangement of \\ncomputer hardware components in a single \\n miniaturized unit.\\nintegration —The phase of the software devel-\\nopment life cycle during which program compo-nents are brought together and tested. \\ninterface —A formal statement of how commu-\\nnication occurs between the user of a module (class or method) and its implementer.\\ninternal memory —Also called primary mem-\\nory, a device that provides temporary storage for data and programs for fast access by a com-puter’s central processing unit. See also \\nrandom \\naccess memory .\\nInternet host —The property of a computer that \\nallows it to receive connections from other com-puters on the Internet.\\ninterpreter —A program that translates and \\nexecutes another program.\\ninvertible matrix —A data structure used in a \\nblock cipher.\\nIP address —The unique location of an indi-\\nvidual computer on the Internet.\\nIP name —A representation of an IP address \\nthat uses letters and periods.\\nIP number —A representation of an IP address \\nthat uses digits and periods.\\nitem —See  element .\\niteration —See  loop .\\niterative —The process of moving forward \\nthrough the phases of software develop-ment and returning to earlier phases to make improvements or corrections.\\nJ\\njump table —A dictionary that associates com-\\nmand names with functions that are invoked when those functions are looked up in the table.446   \\nglossary\\nCopyright 2019 Cengage Learning. All Rights Reserved. May not be copied, scanned, or duplicated, in whole or in part. Due to electronic rights, some third party content may be suppressed from the eBook and/or eChapter(s).\\nEditorial review has deemed that any suppressed content does not materially affect the overall learning experience. Cengage Learning reserves the right to remove additional content at any time if subsequent rights restrictions require it.\\nCopyright 2019 Cengage Learning. All Rights Reserved. May not be copied, scanned, or duplicated, in whole or in part.  WCN 02-200-203', metadata={'page': 467, 'source': 'D:\\\\doc\\\\fundamentals-of-python-first-programs-2nd-edition_compress.pdf'})]\n"
     ]
    }
   ],
   "source": [
    "#query='What is a function in phthon?'\n",
    "query='What is a lambda?'\n",
    "\n",
    "result = retriever.invoke(query)\n",
    "print(result)"
   ]
  },
  {
   "cell_type": "code",
   "execution_count": 35,
   "metadata": {},
   "outputs": [],
   "source": [
    "docs_dict =[{\"page_content\":doc.page_content,\"metadata\":doc.metadata} for doc in result]\n",
    "df = pd.json_normalize(data=docs_dict)\n",
    "df.to_html('rag.html')"
   ]
  },
  {
   "cell_type": "markdown",
   "metadata": {},
   "source": [
    "## Now we will use Chain & LLM (OpenAI) to give us the output of RAG"
   ]
  },
  {
   "cell_type": "code",
   "execution_count": 36,
   "metadata": {},
   "outputs": [],
   "source": [
    "from langchain_chroma import Chroma\n",
    "import chromadb\n",
    "from langchain.prompts import PromptTemplate\n",
    "from langchain.schema.runnable import RunnablePassthrough\n",
    "from langchain_openai import ChatOpenAI\n",
    "from langchain_core.output_parsers import StrOutputParser"
   ]
  },
  {
   "cell_type": "code",
   "execution_count": 37,
   "metadata": {},
   "outputs": [
    {
     "name": "stdout",
     "output_type": "stream",
     "text": [
      "[Collection(name=python), Collection(name=langchain)]\n"
     ]
    }
   ],
   "source": [
    "_client = chromadb.PersistentClient(path=\"D:\\\\ChromaDB\\\\chroma_store\\\\\")\n",
    "print(_client.list_collections())"
   ]
  },
  {
   "cell_type": "code",
   "execution_count": 38,
   "metadata": {},
   "outputs": [],
   "source": [
    "_embeddings = OpenAIEmbeddings()"
   ]
  },
  {
   "cell_type": "code",
   "execution_count": 39,
   "metadata": {},
   "outputs": [],
   "source": [
    "_chromaDB = Chroma(collection_name=\"python\",embedding_function=_embeddings,persist_directory=\"D:\\\\ChromaDB\\\\chroma_store\\\\\")\n",
    "_retriever =Chroma.as_retriever(_chromaDB)"
   ]
  },
  {
   "cell_type": "code",
   "execution_count": 48,
   "metadata": {},
   "outputs": [
    {
     "name": "stdout",
     "output_type": "stream",
     "text": [
      "[Document(page_content=\"Chapter 3\\nFunctions\\nIn the context of programming, a function is a named sequence of statements that performs\\na computation. When you deﬁne a function, you specify the name and the sequence of\\nstatements. Later, you can “call” the function by name.\\n3.1 Function calls\\nWe have already seen one example of a function call :\\n>>> type(42)\\n<class 'int'>\\nThe name of the function is type . The expression in parentheses is called the argument of\\nthe function. The result, for this function, is the type of the argument.\\nIt is common to say that a function “takes” an argument and “returns” a result. The result\\nis also called the return value .\\nPython provides functions that convert values from one type to another. The intfunction\\ntakes any value and converts it to an integer, if it can, or complains otherwise:\\n>>> int( '32')\\n32\\n>>> int( 'Hello ')\\nValueError: invalid literal for int(): Hello\\nintcan convert ﬂoating-point values to integers, but it doesn’t round off; it chops off the\\nfraction part:\\n>>> int(3.99999)\\n3\\n>>> int(-2.3)\\n-2\\nfloat converts integers and strings to ﬂoating-point numbers:\\n>>> float(32)\\n32.0\\n>>> float( '3.14159 ')\\n3.14159\", metadata={'page': 38, 'source': 'D:\\\\doc\\\\thinkpython2.pdf'}), Document(page_content=\"Chapter 3\\nFunctions\\nIn the context of programming, a function is a named sequence of statements that performs\\na computation. When you deﬁne a function, you specify the name and the sequence of\\nstatements. Later, you can “call” the function by name.\\n3.1 Function calls\\nWe have already seen one example of a function call :\\n>>> type(42)\\n<class 'int'>\\nThe name of the function is type . The expression in parentheses is called the argument of\\nthe function. The result, for this function, is the type of the argument.\\nIt is common to say that a function “takes” an argument and “returns” a result. The result\\nis also called the return value .\\nPython provides functions that convert values from one type to another. The intfunction\\ntakes any value and converts it to an integer, if it can, or complains otherwise:\\n>>> int( '32')\\n32\\n>>> int( 'Hello ')\\nValueError: invalid literal for int(): Hello\\nintcan convert ﬂoating-point values to integers, but it doesn’t round off; it chops off the\\nfraction part:\\n>>> int(3.99999)\\n3\\n>>> int(-2.3)\\n-2\\nfloat converts integers and strings to ﬂoating-point numbers:\\n>>> float(32)\\n32.0\\n>>> float( '3.14159 ')\\n3.14159\", metadata={'page': 38, 'source': 'D:\\\\doc\\\\thinkpython2.pdf'}), Document(page_content=\"Chapter 3\\nFunctions\\nIn the context of programming, a function is a named sequence of statements that performs\\na computation. When you deﬁne a function, you specify the name and the sequence of\\nstatements. Later, you can “call” the function by name.\\n3.1 Function calls\\nWe have already seen one example of a function call :\\n>>> type(42)\\n<class 'int'>\\nThe name of the function is type . The expression in parentheses is called the argument of\\nthe function. The result, for this function, is the type of the argument.\\nIt is common to say that a function “takes” an argument and “returns” a result. The result\\nis also called the return value .\\nPython provides functions that convert values from one type to another. The intfunction\\ntakes any value and converts it to an integer, if it can, or complains otherwise:\\n>>> int( '32')\\n32\\n>>> int( 'Hello ')\\nValueError: invalid literal for int(): Hello\\nintcan convert ﬂoating-point values to integers, but it doesn’t round off; it chops off the\\nfraction part:\\n>>> int(3.99999)\\n3\\n>>> int(-2.3)\\n-2\\nfloat converts integers and strings to ﬂoating-point numbers:\\n>>> float(32)\\n32.0\\n>>> float( '3.14159 ')\\n3.14159\", metadata={'page': 38, 'source': 'D:\\\\doc\\\\thinkpython2.pdf'}), Document(page_content=\"Chapter 3\\nFunctions\\nIn the context of programming, a function is a named sequence of statements that performs\\na computation. When you deﬁne a function, you specify the name and the sequence of\\nstatements. Later, you can “call” the function by name.\\n3.1 Function calls\\nWe have already seen one example of a function call :\\n>>> type(42)\\n<class 'int'>\\nThe name of the function is type . The expression in parentheses is called the argument of\\nthe function. The result, for this function, is the type of the argument.\\nIt is common to say that a function “takes” an argument and “returns” a result. The result\\nis also called the return value .\\nPython provides functions that convert values from one type to another. The intfunction\\ntakes any value and converts it to an integer, if it can, or complains otherwise:\\n>>> int( '32')\\n32\\n>>> int( 'Hello ')\\nValueError: invalid literal for int(): Hello\\nintcan convert ﬂoating-point values to integers, but it doesn’t round off; it chops off the\\nfraction part:\\n>>> int(3.99999)\\n3\\n>>> int(-2.3)\\n-2\\nfloat converts integers and strings to ﬂoating-point numbers:\\n>>> float(32)\\n32.0\\n>>> float( '3.14159 ')\\n3.14159\", metadata={'page': 38, 'source': 'D:\\\\doc\\\\thinkpython2.pdf'})]\n"
     ]
    }
   ],
   "source": [
    "#query='What is a function in phthon?'\n",
    "query='What is a lambda function in python?'\n",
    "\n",
    "\n",
    "result = _retriever.invoke(query)\n",
    "print(result)"
   ]
  },
  {
   "cell_type": "code",
   "execution_count": 41,
   "metadata": {},
   "outputs": [],
   "source": [
    "_llm = ChatOpenAI()"
   ]
  },
  {
   "cell_type": "code",
   "execution_count": 51,
   "metadata": {},
   "outputs": [],
   "source": [
    "template = \"\"\"Use the following pieces of context to answer the question at the end. \n",
    "If you don't know the answer, just say that you don't know. Use three sentences maximum and keep the answer as concise as possible. \n",
    "\n",
    "{context}\n",
    "Question: {question}\n",
    "Helpful Answer:\"\"\"\n",
    "\n",
    "\n",
    "rag_prompt_custom = PromptTemplate.from_template(template)\n",
    "#prompt = hub.pull(\"rlm/rag-prompt\")\n",
    "\n",
    "def format_docs(docs):\n",
    "    return \"\\n\\n\".join(doc.page_content for doc in docs)\n",
    "\n",
    "rag_chain = (\n",
    "     {\"context\": retriever | format_docs , \"question\": RunnablePassthrough()} \n",
    "     | rag_prompt_custom \n",
    "     | _llm\n",
    "     | StrOutputParser()\n",
    "     )"
   ]
  },
  {
   "cell_type": "code",
   "execution_count": 52,
   "metadata": {},
   "outputs": [
    {
     "data": {
      "text/plain": [
       "str"
      ]
     },
     "execution_count": 52,
     "metadata": {},
     "output_type": "execute_result"
    }
   ],
   "source": [
    "_result = rag_chain.invoke(query)\n",
    "type(_result)"
   ]
  },
  {
   "cell_type": "code",
   "execution_count": 53,
   "metadata": {},
   "outputs": [
    {
     "data": {
      "text/plain": [
       "'A lambda function in Python is a small anonymous function defined with the lambda keyword. It can have any number of arguments but only one expression. Lambda functions can be used wherever function objects are required.'"
      ]
     },
     "execution_count": 53,
     "metadata": {},
     "output_type": "execute_result"
    }
   ],
   "source": [
    "_result"
   ]
  }
 ],
 "metadata": {
  "kernelspec": {
   "display_name": ".venv",
   "language": "python",
   "name": "python3"
  },
  "language_info": {
   "codemirror_mode": {
    "name": "ipython",
    "version": 3
   },
   "file_extension": ".py",
   "mimetype": "text/x-python",
   "name": "python",
   "nbconvert_exporter": "python",
   "pygments_lexer": "ipython3",
   "version": "3.12.3"
  }
 },
 "nbformat": 4,
 "nbformat_minor": 2
}
